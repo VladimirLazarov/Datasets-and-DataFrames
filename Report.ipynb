{
 "cells": [
  {
   "cell_type": "code",
   "execution_count": 1,
   "id": "499597b3",
   "metadata": {},
   "outputs": [],
   "source": [
    "import pandas as pd"
   ]
  },
  {
   "cell_type": "code",
   "execution_count": 2,
   "id": "6f2d85d8",
   "metadata": {},
   "outputs": [],
   "source": [
    "df = pd.read_csv('balance.txt',sep=' ')"
   ]
  },
  {
   "cell_type": "code",
   "execution_count": 4,
   "id": "7a945ed4",
   "metadata": {},
   "outputs": [
    {
     "data": {
      "text/html": [
       "<div>\n",
       "<style scoped>\n",
       "    .dataframe tbody tr th:only-of-type {\n",
       "        vertical-align: middle;\n",
       "    }\n",
       "\n",
       "    .dataframe tbody tr th {\n",
       "        vertical-align: top;\n",
       "    }\n",
       "\n",
       "    .dataframe thead th {\n",
       "        text-align: right;\n",
       "    }\n",
       "</style>\n",
       "<table border=\"1\" class=\"dataframe\">\n",
       "  <thead>\n",
       "    <tr style=\"text-align: right;\">\n",
       "      <th></th>\n",
       "      <th>Balance</th>\n",
       "      <th>Income</th>\n",
       "      <th>Limit</th>\n",
       "      <th>Rating</th>\n",
       "      <th>Cards</th>\n",
       "      <th>Age</th>\n",
       "      <th>Education</th>\n",
       "      <th>Gender</th>\n",
       "      <th>Student</th>\n",
       "      <th>Married</th>\n",
       "      <th>Ethnicity</th>\n",
       "    </tr>\n",
       "  </thead>\n",
       "  <tbody>\n",
       "    <tr>\n",
       "      <th>0</th>\n",
       "      <td>12.240798</td>\n",
       "      <td>14.891</td>\n",
       "      <td>3606</td>\n",
       "      <td>283</td>\n",
       "      <td>2</td>\n",
       "      <td>34</td>\n",
       "      <td>11</td>\n",
       "      <td>Male</td>\n",
       "      <td>No</td>\n",
       "      <td>Yes</td>\n",
       "      <td>Caucasian</td>\n",
       "    </tr>\n",
       "    <tr>\n",
       "      <th>1</th>\n",
       "      <td>23.283334</td>\n",
       "      <td>106.025</td>\n",
       "      <td>6645</td>\n",
       "      <td>483</td>\n",
       "      <td>3</td>\n",
       "      <td>82</td>\n",
       "      <td>15</td>\n",
       "      <td>Female</td>\n",
       "      <td>Yes</td>\n",
       "      <td>Yes</td>\n",
       "      <td>Asian</td>\n",
       "    </tr>\n",
       "    <tr>\n",
       "      <th>2</th>\n",
       "      <td>22.530409</td>\n",
       "      <td>104.593</td>\n",
       "      <td>7075</td>\n",
       "      <td>514</td>\n",
       "      <td>4</td>\n",
       "      <td>71</td>\n",
       "      <td>11</td>\n",
       "      <td>Male</td>\n",
       "      <td>No</td>\n",
       "      <td>No</td>\n",
       "      <td>Asian</td>\n",
       "    </tr>\n",
       "    <tr>\n",
       "      <th>3</th>\n",
       "      <td>27.652811</td>\n",
       "      <td>148.924</td>\n",
       "      <td>9504</td>\n",
       "      <td>681</td>\n",
       "      <td>3</td>\n",
       "      <td>36</td>\n",
       "      <td>11</td>\n",
       "      <td>Female</td>\n",
       "      <td>No</td>\n",
       "      <td>No</td>\n",
       "      <td>Asian</td>\n",
       "    </tr>\n",
       "    <tr>\n",
       "      <th>4</th>\n",
       "      <td>16.893978</td>\n",
       "      <td>55.882</td>\n",
       "      <td>4897</td>\n",
       "      <td>357</td>\n",
       "      <td>2</td>\n",
       "      <td>68</td>\n",
       "      <td>16</td>\n",
       "      <td>Male</td>\n",
       "      <td>No</td>\n",
       "      <td>Yes</td>\n",
       "      <td>Caucasian</td>\n",
       "    </tr>\n",
       "  </tbody>\n",
       "</table>\n",
       "</div>"
      ],
      "text/plain": [
       "     Balance   Income  Limit  Rating  Cards  Age  Education  Gender Student  \\\n",
       "0  12.240798   14.891   3606     283      2   34         11    Male      No   \n",
       "1  23.283334  106.025   6645     483      3   82         15  Female     Yes   \n",
       "2  22.530409  104.593   7075     514      4   71         11    Male      No   \n",
       "3  27.652811  148.924   9504     681      3   36         11  Female      No   \n",
       "4  16.893978   55.882   4897     357      2   68         16    Male      No   \n",
       "\n",
       "  Married  Ethnicity  \n",
       "0     Yes  Caucasian  \n",
       "1     Yes      Asian  \n",
       "2      No      Asian  \n",
       "3      No      Asian  \n",
       "4     Yes  Caucasian  "
      ]
     },
     "execution_count": 4,
     "metadata": {},
     "output_type": "execute_result"
    }
   ],
   "source": [
    "df.head()"
   ]
  },
  {
   "cell_type": "markdown",
   "id": "3052dc1b",
   "metadata": {},
   "source": [
    "Compare the average income based on ethnicity"
   ]
  },
  {
   "cell_type": "code",
   "execution_count": 6,
   "id": "164a2923",
   "metadata": {},
   "outputs": [],
   "source": [
    "average_income_by_ethnicity = df.groupby('Ethnicity')['Income'].mean()"
   ]
  },
  {
   "cell_type": "code",
   "execution_count": 9,
   "id": "de5fb7c9",
   "metadata": {},
   "outputs": [
    {
     "name": "stdout",
     "output_type": "stream",
     "text": [
      "Ethnicity\n",
      "African American    47.682101\n",
      "Asian               44.187833\n",
      "Caucasian           44.521945\n",
      "Name: Income, dtype: float64\n"
     ]
    }
   ],
   "source": [
    "print(average_income_by_ethnicity)"
   ]
  },
  {
   "cell_type": "markdown",
   "id": "2f55e955",
   "metadata": {},
   "source": [
    "On average, do married or single people have a higher balance?"
   ]
  },
  {
   "cell_type": "code",
   "execution_count": 12,
   "id": "e8ce68d1",
   "metadata": {},
   "outputs": [],
   "source": [
    "average_balance_by_marital_status = df.groupby('Married')['Balance'].mean()"
   ]
  },
  {
   "cell_type": "code",
   "execution_count": 13,
   "id": "a6a51857",
   "metadata": {},
   "outputs": [
    {
     "name": "stdout",
     "output_type": "stream",
     "text": [
      "Married\n",
      "No     13.493509\n",
      "Yes    13.388473\n",
      "Name: Balance, dtype: float64\n"
     ]
    }
   ],
   "source": [
    "print(average_balance_by_marital_status)"
   ]
  },
  {
   "cell_type": "markdown",
   "id": "c9648974",
   "metadata": {},
   "source": [
    " What is the highest income in our dataset?"
   ]
  },
  {
   "cell_type": "code",
   "execution_count": 14,
   "id": "f82c959d",
   "metadata": {},
   "outputs": [],
   "source": [
    "highest_income = df['Income'].max()"
   ]
  },
  {
   "cell_type": "code",
   "execution_count": 15,
   "id": "19e3d81e",
   "metadata": {},
   "outputs": [
    {
     "name": "stdout",
     "output_type": "stream",
     "text": [
      "186.634\n"
     ]
    }
   ],
   "source": [
    "print(highest_income)"
   ]
  },
  {
   "cell_type": "markdown",
   "id": "14b85462",
   "metadata": {},
   "source": [
    "What is the lowest income in our dataset?"
   ]
  },
  {
   "cell_type": "code",
   "execution_count": 16,
   "id": "58cda8a4",
   "metadata": {},
   "outputs": [],
   "source": [
    "lowest_income = df['Income'].min()"
   ]
  },
  {
   "cell_type": "code",
   "execution_count": 17,
   "id": "2eed7965",
   "metadata": {},
   "outputs": [
    {
     "name": "stdout",
     "output_type": "stream",
     "text": [
      "10.354\n"
     ]
    }
   ],
   "source": [
    "print(lowest_income)"
   ]
  },
  {
   "cell_type": "markdown",
   "id": "f5fe1081",
   "metadata": {},
   "source": [
    "How many cards do we have recorded in our dataset?"
   ]
  },
  {
   "cell_type": "code",
   "execution_count": 18,
   "id": "3ff158fc",
   "metadata": {},
   "outputs": [],
   "source": [
    "total_cards_recorded = df['Cards'].sum()"
   ]
  },
  {
   "cell_type": "code",
   "execution_count": 19,
   "id": "2c6cdfe6",
   "metadata": {},
   "outputs": [
    {
     "name": "stdout",
     "output_type": "stream",
     "text": [
      "1183\n"
     ]
    }
   ],
   "source": [
    "print(total_cards_recorded)"
   ]
  },
  {
   "cell_type": "markdown",
   "id": "256c713c",
   "metadata": {},
   "source": [
    "How many females do we have information for vs how many males?"
   ]
  },
  {
   "cell_type": "code",
   "execution_count": 21,
   "id": "3e610794",
   "metadata": {},
   "outputs": [],
   "source": [
    "female_count = df[df['Gender'] == 'Female'].count()['Gender']\n",
    "male_count = df[df['Gender'] == 'Male'].count()['Gender']"
   ]
  },
  {
   "cell_type": "code",
   "execution_count": 22,
   "id": "a80c4d75",
   "metadata": {},
   "outputs": [
    {
     "name": "stdout",
     "output_type": "stream",
     "text": [
      "207 193\n"
     ]
    }
   ],
   "source": [
    "print(female_count, male_count)"
   ]
  },
  {
   "cell_type": "code",
   "execution_count": null,
   "id": "0a4082d3",
   "metadata": {},
   "outputs": [],
   "source": []
  }
 ],
 "metadata": {
  "kernelspec": {
   "display_name": "Python 3 (ipykernel)",
   "language": "python",
   "name": "python3"
  },
  "language_info": {
   "codemirror_mode": {
    "name": "ipython",
    "version": 3
   },
   "file_extension": ".py",
   "mimetype": "text/x-python",
   "name": "python",
   "nbconvert_exporter": "python",
   "pygments_lexer": "ipython3",
   "version": "3.11.5"
  }
 },
 "nbformat": 4,
 "nbformat_minor": 5
}
